{
 "cells": [
  {
   "cell_type": "code",
   "execution_count": 3,
   "metadata": {},
   "outputs": [],
   "source": [
    "# UI for attendance system using tkinter\n",
    "from tkinter import *\n",
    "import os\n",
    "from datetime import datetime;\n",
    "#creating instance of TK\n",
    "root=Tk()\n",
    "\n",
    "root.configure(background=\"white\")\n",
    "\n",
    "def function1():\n",
    "    os.system('C:/Users/smaya/Facial Recognition Collage/dataset_capture')\n",
    "#     print(os.system('dataset_capture.ipynb'))   \n",
    "#     os.system(' %run -i dataset_capture')\n",
    "    \n",
    "def function2():\n",
    "    \n",
    "    os.system(training_dataset)\n",
    "\n",
    "def function3():\n",
    "    os.system(\"py recognizer.py\")\n",
    "    playsound('sound.mp3')\n",
    "\n",
    "def function5():    \n",
    "   os.startfile(os.getcwd()+\"/developers/diet1frame1first.html\");\n",
    "   \n",
    "def function6():\n",
    "\n",
    "    root.destroy()\n",
    "\n",
    "def attend():\n",
    "    os.startfile(os.getcwd()+str(datetime.now().date())+'.xls')\n",
    "\n",
    "#stting title for the window\n",
    "root.title(\"AUTOMATIC ATTENDANCE MANAGEMENT USING FACE RECOGNITION\")\n",
    "\n",
    "#creating a text label\n",
    "Label(root, text=\"FACE RECOGNITION ATTENDANCE SYSTEM\",font=(\"times new roman\",20),fg=\"white\",bg=\"maroon\",height=2).grid(row=0,rowspan=2,columnspan=2,sticky=N+E+W+S,padx=5,pady=5)\n",
    "\n",
    "#creating first button\n",
    "Button(root,text=\"Create Dataset\",font=(\"times new roman\",20),bg=\"#0D47A1\",fg='white',command=function1).grid(row=3,columnspan=2,sticky=W+E+N+S,padx=5,pady=5)\n",
    "\n",
    "#creating second button\n",
    "Button(root,text=\"Train Dataset\",font=(\"times new roman\",20),bg=\"#0D47A1\",fg='white',command=function2).grid(row=4,columnspan=2,sticky=N+E+W+S,padx=5,pady=5)\n",
    "\n",
    "#creating third button\n",
    "Button(root,text=\"Recognize + Attendance\",font=('times new roman',20),bg=\"#0D47A1\",fg=\"white\",command=function3).grid(row=5,columnspan=2,sticky=N+E+W+S,padx=5,pady=5)\n",
    "\n",
    "#creating attendance button\n",
    "Button(root,text=\"Attendance Sheet\",font=('times new roman',20),bg=\"#0D47A1\",fg=\"white\",command=attend).grid(row=6,columnspan=2,sticky=N+E+W+S,padx=5,pady=5)\n",
    "\n",
    "Button(root,text=\"Developers\",font=('times new roman',20),bg=\"#0D47A1\",fg=\"white\",command=function5).grid(row=8,columnspan=2,sticky=N+E+W+S,padx=5,pady=5)\n",
    "\n",
    "Button(root,text=\"Exit\",font=('times new roman',20),bg=\"maroon\",fg=\"white\",command=function6).grid(row=9,columnspan=2,sticky=N+E+W+S,padx=5,pady=5)\n",
    "\n",
    "\n",
    "root.mainloop()\n"
   ]
  },
  {
   "cell_type": "code",
   "execution_count": null,
   "metadata": {},
   "outputs": [],
   "source": []
  }
 ],
 "metadata": {
  "kernelspec": {
   "display_name": "Python 3",
   "language": "python",
   "name": "python3"
  },
  "language_info": {
   "codemirror_mode": {
    "name": "ipython",
    "version": 3
   },
   "file_extension": ".py",
   "mimetype": "text/x-python",
   "name": "python",
   "nbconvert_exporter": "python",
   "pygments_lexer": "ipython3",
   "version": "3.6.5"
  }
 },
 "nbformat": 4,
 "nbformat_minor": 2
}
